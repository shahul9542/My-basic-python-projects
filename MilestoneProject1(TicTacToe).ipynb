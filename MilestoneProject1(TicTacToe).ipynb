{
 "cells": [
  {
   "cell_type": "code",
   "execution_count": null,
   "id": "327ffceb",
   "metadata": {},
   "outputs": [],
   "source": [
    "from IPython.display import clear_output\n",
    "def display_board(board):\n",
    "    \n",
    "    print(board[7]+'|'+board[8]+'|'+board[9])\n",
    "    print('-----')\n",
    "    print(board[4]+'|'+board[5]+'|'+board[6])\n",
    "    print('-----')\n",
    "    print(board[1]+'|'+board[2]+'|'+board[3])\n",
    "    "
   ]
  },
  {
   "cell_type": "code",
   "execution_count": null,
   "id": "3c09ae40",
   "metadata": {},
   "outputs": [],
   "source": [
    "test_board = ['#','X','O','X','O','X','O','X','O','X']\n",
    "display_board(test_board)\n"
   ]
  },
  {
   "cell_type": "code",
   "execution_count": null,
   "id": "58ca98cd",
   "metadata": {},
   "outputs": [],
   "source": [
    "test_board = [' ']*10\n",
    "display_board(test_board)"
   ]
  },
  {
   "cell_type": "code",
   "execution_count": null,
   "id": "3b23851e",
   "metadata": {},
   "outputs": [],
   "source": [
    "from IPython.display import clear_output\n",
    "def display_board(board):\n",
    "    clear_output()\n",
    "    print(board[7]+'|'+board[8]+'|'+board[9])\n",
    "    print('-----')\n",
    "    print(board[4]+'|'+board[5]+'|'+board[6])\n",
    "    print('-----')\n",
    "    print(board[1]+'|'+board[2]+'|'+board[3])\n",
    "    "
   ]
  },
  {
   "cell_type": "code",
   "execution_count": null,
   "id": "9c997c94",
   "metadata": {},
   "outputs": [],
   "source": [
    "test_board = ['#','X','O','X','O','X','O','X','O','X']\n",
    "display_board(test_board)"
   ]
  },
  {
   "cell_type": "code",
   "execution_count": null,
   "id": "7c1a87ce",
   "metadata": {},
   "outputs": [],
   "source": [
    "def player_input():\n",
    "    marker = ''\n",
    "    \n",
    "    #Keep asking player1 choose X or O\n",
    "    \n",
    "    while marker != 'X' and marker != 'O':\n",
    "        marker =input(\"Player1,Please choose X or O: \")\n",
    "        \n",
    "    #Assign player2 ,the opposite marker\n",
    "    Player1 = marker\n",
    "    \n",
    "    if Player1 == 'X':\n",
    "        Player2 = 'O'\n",
    "    else:\n",
    "        Player2 = 'X'\n",
    "        \n",
    "    return(Player1,Player2)\n",
    "    \n",
    "    \n",
    "        "
   ]
  },
  {
   "cell_type": "code",
   "execution_count": null,
   "id": "43c24e65",
   "metadata": {},
   "outputs": [],
   "source": [
    "player_input()"
   ]
  },
  {
   "cell_type": "code",
   "execution_count": null,
   "id": "6c878ab1",
   "metadata": {},
   "outputs": [],
   "source": [
    "player1_marker,player2_marker = player_input()"
   ]
  },
  {
   "cell_type": "code",
   "execution_count": null,
   "id": "a01569a5",
   "metadata": {},
   "outputs": [],
   "source": [
    "player2_marker"
   ]
  },
  {
   "cell_type": "code",
   "execution_count": null,
   "id": "37185ef3",
   "metadata": {},
   "outputs": [],
   "source": [
    "player1_marker"
   ]
  },
  {
   "cell_type": "code",
   "execution_count": null,
   "id": "1c01ebc4",
   "metadata": {},
   "outputs": [],
   "source": [
    "test_board = ['#','X','O','X','O','X','O','X','O','X']\n",
    "display_board(test_board)   #This is the first program\n",
    "print('-----')\n",
    "display_board(test_board)"
   ]
  },
  {
   "cell_type": "code",
   "execution_count": null,
   "id": "d1cf0dbc",
   "metadata": {},
   "outputs": [],
   "source": [
    "test_board = ['#','X','O','X','O','X','O','X','O','X'] \n",
    "display_board(test_board)  #This is the second  progarm we use clear output that's execute one time only\n",
    "print('-----')\n",
    "display_board(test_board)"
   ]
  },
  {
   "cell_type": "markdown",
   "id": "ceba1e16",
   "metadata": {},
   "source": [
    "now this table we maximimixe the size of the table...... "
   ]
  },
  {
   "cell_type": "code",
   "execution_count": null,
   "id": "ccdc82e3",
   "metadata": {},
   "outputs": [],
   "source": [
    "from IPython.display import clear_output\n",
    "def display_board(board):\n",
    "    print('    |     |')\n",
    "    print(board[7]+'   |  '+board[8]+'  |  '+board[9])\n",
    "    print('    |     |')\n",
    "    print('---------------')\n",
    "    print('    |     |')\n",
    "    print(board[4]+'   |  '+board[5]+'  |  '+board[6])\n",
    "    print('    |     |')\n",
    "    print('---------------')\n",
    "    print('    |     |')\n",
    "    print(board[1]+'   |  '+board[2]+'  |  '+board[3])\n",
    "    print('    |     |')\n",
    "    "
   ]
  },
  {
   "cell_type": "code",
   "execution_count": null,
   "id": "c6d96bf5",
   "metadata": {},
   "outputs": [],
   "source": [
    "display_board(test_board)"
   ]
  },
  {
   "cell_type": "code",
   "execution_count": null,
   "id": "2ce0cf98",
   "metadata": {},
   "outputs": [],
   "source": [
    "test_board = ['#','X','O','X','O','X','O','X','O','X']\n",
    "display_board(test_board)"
   ]
  },
  {
   "cell_type": "code",
   "execution_count": null,
   "id": "e43d27d2",
   "metadata": {},
   "outputs": [],
   "source": [
    "player_input()"
   ]
  },
  {
   "cell_type": "markdown",
   "id": "30d2e7b2",
   "metadata": {},
   "source": [
    "STEP 2: write a function to make the select the symbol X or O until you choose correctly asiking continouslly"
   ]
  },
  {
   "cell_type": "code",
   "execution_count": null,
   "id": "39db942e",
   "metadata": {},
   "outputs": [],
   "source": [
    "def player_input():\n",
    "    '''\n",
    "    OUTPUT : (Player1_marker,Player2_marker)\n",
    "    \n",
    "    '''\n",
    "    \n",
    "    marker = ''\n",
    "    while marker != 'X' and marker != 'O':  #OR while not(marker = 'X' and marker = 'O')\n",
    "        marker = input('Player1,Choose X or O: ').upper()\n",
    "    if marker == 'X':\n",
    "        \n",
    "        return('X','O')\n",
    "    else:\n",
    "        return('O','X')\n",
    "  "
   ]
  },
  {
   "cell_type": "code",
   "execution_count": null,
   "id": "319d55d0",
   "metadata": {},
   "outputs": [],
   "source": [
    "player_input()"
   ]
  },
  {
   "cell_type": "markdown",
   "id": "40acfb78",
   "metadata": {},
   "source": [
    "Test Step 2: Run the function to make sure it returns desired output"
   ]
  },
  {
   "cell_type": "code",
   "execution_count": null,
   "id": "79bf2564",
   "metadata": {},
   "outputs": [],
   "source": [
    "player1_marker,player2_marker = player_input()"
   ]
  },
  {
   "cell_type": "code",
   "execution_count": null,
   "id": "c859a81a",
   "metadata": {},
   "outputs": [],
   "source": [
    "player2_marker"
   ]
  },
  {
   "cell_type": "code",
   "execution_count": null,
   "id": "1eea6b16",
   "metadata": {},
   "outputs": [],
   "source": [
    "test_board"
   ]
  },
  {
   "cell_type": "markdown",
   "id": "853f150c",
   "metadata": {},
   "source": [
    "Step 3: write a function to check that the board list object ,a marker(X or O) desired the position (1-9) and assigned a position"
   ]
  },
  {
   "cell_type": "code",
   "execution_count": null,
   "id": "103bac5a",
   "metadata": {},
   "outputs": [],
   "source": [
    "def place_marker(board,marker,position):\n",
    "    board[position] = marker"
   ]
  },
  {
   "cell_type": "markdown",
   "id": "d529df60",
   "metadata": {},
   "source": [
    "Test step 3: run the palce marker function using test parameters in display the modified board!"
   ]
  },
  {
   "cell_type": "code",
   "execution_count": null,
   "id": "2cf94a2d",
   "metadata": {},
   "outputs": [],
   "source": [
    "place_marker(test_board,'$',8)\n",
    "display_board(test_board)"
   ]
  },
  {
   "cell_type": "markdown",
   "id": "1b2e4fc7",
   "metadata": {},
   "source": [
    "step 4: to check To check in Board X or O who is won?"
   ]
  },
  {
   "cell_type": "code",
   "execution_count": null,
   "id": "e48c1165",
   "metadata": {},
   "outputs": [],
   "source": [
    "def win_check(board,mark):\n",
    "    # WIN TIC TAC TOE?\n",
    "    \n",
    "    #All rows and check if they all share the same marker?\n",
    "    return ((board[1] == mark and board[2]== mark and board[3] == mark) or # bottom horizantal line\n",
    "    \n",
    "    (board[4] == board[5] == board[6] == mark) or # same logic\n",
    "    \n",
    "    (board[7] == mark and board[8]== mark and board[9] == mark) or\n",
    "    #All coulums,check to see if marker matches\n",
    "    (board[7] == mark and board[4]== mark and board[1] == mark) or\n",
    "    (board[8] == board[5] == board[2] == mark) or\n",
    "    (board[9] == board[6] == board[3] == mark) or\n",
    "    #2 diagonals ,check to see match\n",
    "    (board[1] == board[5] == board[9] == mark) or \n",
    "    (board[7] == board[5] == board[3] == mark))\n"
   ]
  },
  {
   "cell_type": "code",
   "execution_count": null,
   "id": "6661afc7",
   "metadata": {},
   "outputs": [],
   "source": [
    "win_check(test_board,'X')"
   ]
  },
  {
   "cell_type": "code",
   "execution_count": null,
   "id": "484d4891",
   "metadata": {},
   "outputs": [],
   "source": [
    "display_board(test_board)\n",
    "win_check(test_board,'X')"
   ]
  },
  {
   "cell_type": "markdown",
   "id": "8e7c2ec5",
   "metadata": {},
   "source": [
    "Step 5: Write a function that uses the random module to randomly decide which player goes first.You may to lookup random.randint().Return a string of which player went first."
   ]
  },
  {
   "cell_type": "code",
   "execution_count": null,
   "id": "d3702519",
   "metadata": {},
   "outputs": [],
   "source": [
    "import random\n",
    "\n",
    "def choose_first():\n",
    "    \n",
    "    flip = random.randint(0,1)\n",
    "    \n",
    "    if flip == 0:\n",
    "        return 'Player1'\n",
    "    else:\n",
    "        return 'Player2'\n"
   ]
  },
  {
   "cell_type": "markdown",
   "id": "7c698023",
   "metadata": {},
   "source": [
    "Step6: Write a boolean function indicating a space board is freely avaliable"
   ]
  },
  {
   "cell_type": "code",
   "execution_count": null,
   "id": "1ebb0a2c",
   "metadata": {},
   "outputs": [],
   "source": [
    "def space_check(board,position):\n",
    "    \n",
    "    return board[position] == ' '\n",
    "    "
   ]
  },
  {
   "cell_type": "markdown",
   "id": "283155fe",
   "metadata": {},
   "source": [
    "Step7: Write a boolean function if the board is full returns the boolean value,True if full otherwise False"
   ]
  },
  {
   "cell_type": "code",
   "execution_count": null,
   "id": "c3efebda",
   "metadata": {},
   "outputs": [],
   "source": [
    "def full_board_check(board):\n",
    "    for i in range(1,10):\n",
    "        if space_check(board,i):\n",
    "            return False\n",
    "        #BOARD IS FULL IS WE RETURN TRUE\n",
    "    return True"
   ]
  },
  {
   "cell_type": "markdown",
   "id": "dfd4b147",
   "metadata": {},
   "source": [
    "Step8:Write a function that asks for a next palyer's position (as a number 1-9) and then use that function from step6 to check if the position is free if it is position return for later use"
   ]
  },
  {
   "cell_type": "code",
   "execution_count": null,
   "id": "99390de5",
   "metadata": {},
   "outputs": [],
   "source": [
    "def player_choice(board):\n",
    "    \n",
    "    position = 0\n",
    "    \n",
    "    while position not in [1,2,3,4,5,6,7,8,9] or not space_check(board,position):\n",
    "        position = int(input(\"Choose a position here: (1-9)  \"))\n",
    "        \n",
    "    return position\n",
    "        \n",
    "        "
   ]
  },
  {
   "cell_type": "markdown",
   "id": "7be4c408",
   "metadata": {},
   "source": [
    "Step9 :Write a function that asks if the player wants to play again and it returns a boolean True if they want to play again"
   ]
  },
  {
   "cell_type": "code",
   "execution_count": null,
   "id": "d8f08b9a",
   "metadata": {},
   "outputs": [],
   "source": [
    "def replay():\n",
    "    \n",
    "    choice = input('Play again? Enter Yes or No ')\n",
    "    \n",
    "    return choice == 'Yes'"
   ]
  },
  {
   "cell_type": "markdown",
   "id": "8f88f101",
   "metadata": {},
   "source": [
    "Step10 :Here comes the hard part! Use while loops and functions you've made to run the game"
   ]
  },
  {
   "cell_type": "code",
   "execution_count": null,
   "id": "528649c2",
   "metadata": {},
   "outputs": [],
   "source": [
    "# WHILE LOOP KEEP RUNNING THE GAME\n",
    "print(\"welcome to Tic TAC TOE!\")\n",
    "\n",
    "while True:\n",
    "    \n",
    "    # PLAY THE GAME HERE\n",
    "    \n",
    "    \n",
    "    ## SET EVERYTHING UP(BOARD,CHOOSE FIRST, CHOOSE MARKERS(X or O) )\n",
    "    the_board = [' ']*10\n",
    "    Player1_marker,Player2_marker = player_input()\n",
    "    \n",
    "    turn = choose_first()\n",
    "    print(turn + ' will go first')\n",
    "    \n",
    "    play_game = input('Ready to Play? y or n?')\n",
    "    \n",
    "    if play_game == 'y':\n",
    "        game_on = True\n",
    "    else:\n",
    "        game_on = False\n",
    "    \n",
    "    \n",
    "    ## GAME PLAY\n",
    "    while game_on:\n",
    "        if turn == 'player1':\n",
    "            # show the board\n",
    "            display_board(the_board)\n",
    "            #Choose a position\n",
    "            position = player_choice(the_board)\n",
    "            \n",
    "            #place the marker on the position \n",
    "            place_marker(the_board,player1_marker,position)\n",
    "            \n",
    "            #Check if they won\n",
    "            if win_check(the_board,player1_marker):\n",
    "                display_board(the_board)\n",
    "                print(\"PLAYER 1 HAS WON!\")\n",
    "                game_on = False\n",
    "            else:\n",
    "                if full_board_check(the_board):\n",
    "                    display_board(the_board)\n",
    "                    print(\"THE GAME IS TIE!!\")\n",
    "                    game_on = False\n",
    "                    break\n",
    "                else:\n",
    "                    turn = 'player2'\n",
    "                        \n",
    "        else:\n",
    "            # show the board\n",
    "            display_board(the_board)\n",
    "            #Choose a position\n",
    "            position = player_choice(the_board)\n",
    "            \n",
    "            #place the marker on the position \n",
    "            place_marker(the_board,player2_marker,position)\n",
    "            \n",
    "            #Check if they won\n",
    "            if win_check(the_board,player2_marker):\n",
    "                display_board(the_board)\n",
    "                print(\"PLAYER 2 HAS WON!\")\n",
    "                game_on = False\n",
    "            else:\n",
    "                if full_board_check(the_board):\n",
    "                    display_board(the_board)\n",
    "                    print(\"THE GAME IS TIE!!\")\n",
    "                    game_on = False\n",
    "                    break\n",
    "                else:\n",
    "                    turn = 'player1'\n",
    "    \n",
    "  \n",
    "    \n",
    "    \n",
    "    \n",
    "    \n",
    "    \n",
    "    \n",
    "    if not replay():\n",
    "        break\n",
    "\n",
    "     # Break out the while loop on replay()"
   ]
  },
  {
   "cell_type": "code",
   "execution_count": null,
   "id": "8d8f982d",
   "metadata": {},
   "outputs": [],
   "source": [
    "def tic_tac_toe():\n",
    "        # WHILE LOOP KEEP RUNNING THE GAME\n",
    "    print(\"welcome to Tic TAC TOE!\")\n",
    "\n",
    "    while True:\n",
    "    \n",
    "    # PLAY THE GAME HERE\n",
    "    \n",
    "    \n",
    "    ## SET EVERYTHING UP(BOARD,CHOOSE FIRST, CHOOSE MARKERS(X or O) )\n",
    "        the_board = [' ']*10\n",
    "        Player1_marker,Player2_marker = player_input()\n",
    "    \n",
    "        turn = choose_first()\n",
    "        print(turn + ' will go first')\n",
    "    \n",
    "        play_game = input('Ready to Play? y or n?')\n",
    "    \n",
    "        if play_game == 'y':\n",
    "            game_on = True\n",
    "        else:\n",
    "            game_on = False\n",
    "    \n",
    "    \n",
    "        ## GAME PLAY\n",
    "        while game_on:\n",
    "            if turn == 'player1':\n",
    "                # show the board\n",
    "                display_board(the_board)\n",
    "                #Choose a position\n",
    "                position = player_choice(the_board)\n",
    "            \n",
    "                #place the marker on the position \n",
    "                place_marker(the_board,player1_marker,position)\n",
    "            \n",
    "                #Check if they won\n",
    "                if win_check(the_board,player1_marker):\n",
    "                    display_board(the_board)\n",
    "                    print(\"PLAYER 1 HAS WON!\")\n",
    "                    game_on = False\n",
    "                else:\n",
    "                    if full_board_check(the_board):\n",
    "                        display_board(the_board)\n",
    "                        print(\"THE GAME IS TIE!!\")\n",
    "                        game_on = False\n",
    "                        break\n",
    "                    else:\n",
    "                        turn = 'player2'\n",
    "                        \n",
    "            else:\n",
    "                # show the board\n",
    "                display_board(the_board)\n",
    "                #Choose a position\n",
    "                position = player_choice(the_board)\n",
    "            \n",
    "                #place the marker on the position \n",
    "                place_marker(the_board,player2_marker,position)\n",
    "            \n",
    "                #Check if they won\n",
    "                if win_check(the_board,player2_marker):\n",
    "                    display_board(the_board)\n",
    "                    print(\"PLAYER 2 HAS WON!\")\n",
    "                    game_on = False\n",
    "                else:\n",
    "                    if full_board_check(the_board):\n",
    "                        display_board(the_board)\n",
    "                        print(\"THE GAME IS TIE!!\")\n",
    "                        game_on = False\n",
    "                        break\n",
    "                    else:\n",
    "                        turn = 'player1'\n",
    "    \n",
    "  \n",
    "    \n",
    "    \n",
    "    \n",
    "    \n",
    "    \n",
    "    \n",
    "        if not replay():\n",
    "            break\n",
    "\n",
    "         # Break out the while loop on replay()\n",
    "  "
   ]
  },
  {
   "cell_type": "code",
   "execution_count": null,
   "id": "beae4df5",
   "metadata": {},
   "outputs": [],
   "source": [
    "tic_tac_toe()"
   ]
  },
  {
   "cell_type": "code",
   "execution_count": null,
   "id": "ae6885ee",
   "metadata": {},
   "outputs": [],
   "source": []
  }
 ],
 "metadata": {
  "kernelspec": {
   "display_name": "Python 3 (ipykernel)",
   "language": "python",
   "name": "python3"
  },
  "language_info": {
   "codemirror_mode": {
    "name": "ipython",
    "version": 3
   },
   "file_extension": ".py",
   "mimetype": "text/x-python",
   "name": "python",
   "nbconvert_exporter": "python",
   "pygments_lexer": "ipython3",
   "version": "3.10.9"
  }
 },
 "nbformat": 4,
 "nbformat_minor": 5
}
