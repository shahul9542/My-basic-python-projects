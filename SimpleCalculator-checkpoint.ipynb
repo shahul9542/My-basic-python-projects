{
 "cells": [
  {
   "cell_type": "markdown",
   "id": "900ac3d4",
   "metadata": {},
   "source": [
    "# Project : Calculator"
   ]
  },
  {
   "cell_type": "markdown",
   "id": "697dc1ef",
   "metadata": {},
   "source": [
    "Design a program that prompts the user to enter two numbers, 'a' and 'b,' along with an operator 'op.' Calculate the solution 'c' based on the specified operator, providing a versatile tool for various mathematical operations."
   ]
  },
  {
   "cell_type": "code",
   "execution_count": 1,
   "id": "6ee9b45a",
   "metadata": {},
   "outputs": [],
   "source": [
    "def calc(a,b,op):\n",
    "    \"\"\"\n",
    "    Returns a string like this: a op b = c\n",
    "    where c is a computed value according to the operator\n",
    "    \n",
    "    \"\"\"\n",
    "    if op not in '+-*/':\n",
    "        return 'Please only type one of these characters:\"+, -, *, /\"!'\n",
    "        \n",
    "    if op == '+':\n",
    "        return(str(a) + ' ' + op + ' ' + str(b) + ' = ' + str(a + b))\n",
    "    if op == '-':\n",
    "        return(str(a) + ' ' + op + ' ' + str(b) + ' = ' + str(a - b))\n",
    "    if op == '*':\n",
    "        return(str(a) + ' ' + op + ' ' + str(b) + ' = ' + str(a * b))\n",
    "    if op == '/':\n",
    "        return(str(a) + ' ' + op + ' ' + str(b) + ' = ' + str(a / b))"
   ]
  },
  {
   "cell_type": "code",
   "execution_count": 2,
   "id": "802cd501",
   "metadata": {},
   "outputs": [
    {
     "name": "stdout",
     "output_type": "stream",
     "text": [
      "Please type the first number: 3\n",
      "Please type the second number: 6\n",
      "What kind of operation would you like to do?    \n",
      "Choose between \"+, -, *, /\": %\n",
      "Please only type one of these characters:\"+, -, *, /\"!\n"
     ]
    }
   ],
   "source": [
    "def main():  # Wrapper function\n",
    "    a = int(input('Please type the first number: '))\n",
    "    b = int(input('Please type the second number: '))\n",
    "    op = input('What kind of operation would you like to do?\\\n",
    "    \\nChoose between \"+, -, *, /\": ')\n",
    "    \n",
    "    \n",
    "    print(calc(a, b, op))\n",
    "    \n",
    "    \n",
    "if __name__ == '__main__':\n",
    "    main()\n",
    "    \n",
    "    "
   ]
  },
  {
   "cell_type": "code",
   "execution_count": 3,
   "id": "1c5aab40",
   "metadata": {},
   "outputs": [
    {
     "name": "stdout",
     "output_type": "stream",
     "text": [
      "Please type the first number: 9\n",
      "Please type the second number: 5\n",
      "What kind of operation would you like to do?    \n",
      "Choose between \"+, -, *, /\": -\n",
      "9 - 5 = 4\n"
     ]
    }
   ],
   "source": [
    "main()"
   ]
  },
  {
   "cell_type": "code",
   "execution_count": null,
   "id": "2fa64b96",
   "metadata": {},
   "outputs": [],
   "source": []
  }
 ],
 "metadata": {
  "kernelspec": {
   "display_name": "Python 3 (ipykernel)",
   "language": "python",
   "name": "python3"
  },
  "language_info": {
   "codemirror_mode": {
    "name": "ipython",
    "version": 3
   },
   "file_extension": ".py",
   "mimetype": "text/x-python",
   "name": "python",
   "nbconvert_exporter": "python",
   "pygments_lexer": "ipython3",
   "version": "3.10.9"
  }
 },
 "nbformat": 4,
 "nbformat_minor": 5
}
