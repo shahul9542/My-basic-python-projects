{
 "cells": [
  {
   "cell_type": "code",
   "execution_count": 2,
   "id": "4b6061fc",
   "metadata": {},
   "outputs": [],
   "source": [
    "import random\n",
    "options = (\"rock\",\"paper\",\"scissor\")\n",
    "playing = True"
   ]
  },
  {
   "cell_type": "code",
   "execution_count": null,
   "id": "e3995373",
   "metadata": {},
   "outputs": [
    {
     "name": "stdout",
     "output_type": "stream",
     "text": [
      "Enter your choice(Rock,Paper,Scissor) :paper\n",
      "Player :  paper\n",
      "Computer :  scissor\n",
      "You Loss\n",
      "Play Again ? (Yes or No): Yes\n",
      "Enter your choice(Rock,Paper,Scissor) :rock\n",
      "Player :  rock\n",
      "Computer :  scissor\n",
      "Congrats,You Win!!\n"
     ]
    }
   ],
   "source": [
    "while playing:\n",
    "    player = None\n",
    "    computer=random.choice(options)\n",
    "    \n",
    "    while player not in options:\n",
    "        player=input('Enter your choice(Rock,Paper,Scissor) :')\n",
    "        \n",
    "    print(\"Player : \",player)\n",
    "    print(\"Computer : \",computer)\n",
    "    \n",
    "    if player == computer:\n",
    "        print(\"It's Tie\")\n",
    "    elif player.lower()== 'rock' and computer == \"scissor\":\n",
    "        print(\"Congrats,You Win!!\")\n",
    "    elif player.lower()== 'scissor' and computer == 'paper':\n",
    "        print(\"Congrats,You Win!!\")\n",
    "    elif player.lower()== 'paper' and computer == 'rock':\n",
    "        print(\"Congrats,You Win!!\")\n",
    "    else:\n",
    "        print(\"You Loss\")\n",
    "        \n",
    "    if not input(\"Play Again ? (Yes or No): \").lower()=='yes':\n",
    "        playing =False\n",
    "        \n",
    "print(\"Thank you for playing\")\n",
    "        \n",
    "        \n",
    "        "
   ]
  },
  {
   "cell_type": "code",
   "execution_count": null,
   "id": "d8ec9261",
   "metadata": {},
   "outputs": [],
   "source": []
  }
 ],
 "metadata": {
  "kernelspec": {
   "display_name": "Python 3 (ipykernel)",
   "language": "python",
   "name": "python3"
  },
  "language_info": {
   "codemirror_mode": {
    "name": "ipython",
    "version": 3
   },
   "file_extension": ".py",
   "mimetype": "text/x-python",
   "name": "python",
   "nbconvert_exporter": "python",
   "pygments_lexer": "ipython3",
   "version": "3.10.9"
  }
 },
 "nbformat": 4,
 "nbformat_minor": 5
}
