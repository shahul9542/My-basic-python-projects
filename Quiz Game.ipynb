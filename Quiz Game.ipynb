{
 "cells": [
  {
   "cell_type": "code",
   "execution_count": 2,
   "id": "1ae4d6db",
   "metadata": {},
   "outputs": [
    {
     "name": "stdout",
     "output_type": "stream",
     "text": [
      "Welcome to my Quiz Game \n",
      " Interesting Game to play\n",
      "Do you want to play game? \n",
      "yes\n",
      "Enter your Name: shahul\n",
      "Let's Start the Game : shahul\n",
      "What is CPU stands for? \n",
      "Central Processing Unit\n",
      "Correct\n",
      "What is GPU stands for? \n",
      "graphics user interface\n",
      "Correct\n",
      "What is RAM stands for? \n",
      "Random access Memory\n",
      "Correct\n",
      "What is ROM stands for? \n",
      "Read only memory\n",
      "Correct\n",
      "Mouse is an Input device or Output device? \n",
      "input device\n",
      "Correct\n",
      "You got the 5correct answers\n",
      "You got the 100.0Score\n"
     ]
    }
   ],
   "source": [
    "print(\"Welcome to my Quiz Game \\n Interesting Game to play\")\n",
    "Player = input(\"Do you want to play game? \\n\")\n",
    "\n",
    "if Player.lower() != 'yes':\n",
    "    print(\"Good Bye\")\n",
    "    quit()\n",
    "    \n",
    "name_palyer = input(\"Enter your Name: \")\n",
    "\n",
    "print(\"Let's Start the Game :\", name_palyer)\n",
    "\n",
    "score = 0\n",
    "\n",
    "answer = input(\"What is CPU stands for? \\n\")\n",
    "if answer.lower() == 'central processing unit':\n",
    "    print('Correct')\n",
    "    score += 1\n",
    "else:\n",
    "    print(\"wrong\")\n",
    "    \n",
    "answer = input(\"What is GPU stands for? \\n\")\n",
    "if answer.lower() == 'graphics user interface':\n",
    "    print(\"Correct\")\n",
    "    score += 1\n",
    "else:\n",
    "    print(\"Wrong\")\n",
    "    \n",
    "answer = input(\"What is RAM stands for? \\n\")\n",
    "if answer.lower() == 'random access memory':\n",
    "    print(\"Correct\")\n",
    "    score += 1\n",
    "    \n",
    "else:\n",
    "    print(\"Wrong\")\n",
    "    \n",
    "answer = input(\"What is ROM stands for? \\n\")\n",
    "if answer.lower() == \"read only memory\":\n",
    "    print(\"Correct\")\n",
    "    score += 1\n",
    "    \n",
    "else:\n",
    "    print(\"Wrong\")\n",
    "\n",
    "answer = input(\"Mouse is an Input device or Output device? \\n\")\n",
    "if answer.lower() == \"input device\":\n",
    "    print(\"Correct\")\n",
    "    score += 1\n",
    "    \n",
    "else:\n",
    "    print(\"Wrong\")\n",
    "\n",
    "print(\"You got the \" + str(score) + \"correct answers\")\n",
    "print(\"You got the \"+ str((score/5)*100) + \"Score\")\n",
    "\n"
   ]
  },
  {
   "cell_type": "code",
   "execution_count": null,
   "id": "68ee1c6c",
   "metadata": {},
   "outputs": [],
   "source": []
  },
  {
   "cell_type": "code",
   "execution_count": null,
   "id": "7287d3b1",
   "metadata": {},
   "outputs": [],
   "source": []
  }
 ],
 "metadata": {
  "kernelspec": {
   "display_name": "Python 3 (ipykernel)",
   "language": "python",
   "name": "python3"
  },
  "language_info": {
   "codemirror_mode": {
    "name": "ipython",
    "version": 3
   },
   "file_extension": ".py",
   "mimetype": "text/x-python",
   "name": "python",
   "nbconvert_exporter": "python",
   "pygments_lexer": "ipython3",
   "version": "3.10.9"
  }
 },
 "nbformat": 4,
 "nbformat_minor": 5
}
